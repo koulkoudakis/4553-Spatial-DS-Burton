{
  "nbformat": 4,
  "nbformat_minor": 0,
  "metadata": {
    "colab": {
      "name": "P02-SB.ipynb",
      "provenance": [],
      "collapsed_sections": []
    },
    "kernelspec": {
      "name": "python3",
      "display_name": "Python 3"
    },
    "language_info": {
      "name": "python"
    }
  },
  "cells": [
    {
      "cell_type": "markdown",
      "source": [
        "# Installing Necessary Libraries"
      ],
      "metadata": {
        "id": "VR_ucjWZb77_"
      }
    },
    {
      "cell_type": "code",
      "source": [
        "!pip install geopandas"
      ],
      "metadata": {
        "colab": {
          "base_uri": "https://localhost:8080/"
        },
        "id": "BMNLWo4xTszh",
        "outputId": "810a16da-aaab-464b-d488-f46455ab0671"
      },
      "execution_count": 1,
      "outputs": [
        {
          "output_type": "stream",
          "name": "stdout",
          "text": [
            "Requirement already satisfied: geopandas in /usr/local/lib/python3.7/dist-packages (0.10.2)\n",
            "Requirement already satisfied: pandas>=0.25.0 in /usr/local/lib/python3.7/dist-packages (from geopandas) (1.3.5)\n",
            "Requirement already satisfied: pyproj>=2.2.0 in /usr/local/lib/python3.7/dist-packages (from geopandas) (3.2.1)\n",
            "Requirement already satisfied: shapely>=1.6 in /usr/local/lib/python3.7/dist-packages (from geopandas) (1.8.1.post1)\n",
            "Requirement already satisfied: fiona>=1.8 in /usr/local/lib/python3.7/dist-packages (from geopandas) (1.8.21)\n",
            "Requirement already satisfied: click-plugins>=1.0 in /usr/local/lib/python3.7/dist-packages (from fiona>=1.8->geopandas) (1.1.1)\n",
            "Requirement already satisfied: certifi in /usr/local/lib/python3.7/dist-packages (from fiona>=1.8->geopandas) (2021.10.8)\n",
            "Requirement already satisfied: attrs>=17 in /usr/local/lib/python3.7/dist-packages (from fiona>=1.8->geopandas) (21.4.0)\n",
            "Requirement already satisfied: munch in /usr/local/lib/python3.7/dist-packages (from fiona>=1.8->geopandas) (2.5.0)\n",
            "Requirement already satisfied: click>=4.0 in /usr/local/lib/python3.7/dist-packages (from fiona>=1.8->geopandas) (7.1.2)\n",
            "Requirement already satisfied: setuptools in /usr/local/lib/python3.7/dist-packages (from fiona>=1.8->geopandas) (57.4.0)\n",
            "Requirement already satisfied: six>=1.7 in /usr/local/lib/python3.7/dist-packages (from fiona>=1.8->geopandas) (1.15.0)\n",
            "Requirement already satisfied: cligj>=0.5 in /usr/local/lib/python3.7/dist-packages (from fiona>=1.8->geopandas) (0.7.2)\n",
            "Requirement already satisfied: pytz>=2017.3 in /usr/local/lib/python3.7/dist-packages (from pandas>=0.25.0->geopandas) (2018.9)\n",
            "Requirement already satisfied: numpy>=1.17.3 in /usr/local/lib/python3.7/dist-packages (from pandas>=0.25.0->geopandas) (1.21.5)\n",
            "Requirement already satisfied: python-dateutil>=2.7.3 in /usr/local/lib/python3.7/dist-packages (from pandas>=0.25.0->geopandas) (2.8.2)\n"
          ]
        }
      ]
    },
    {
      "cell_type": "markdown",
      "source": [
        "# Importing Libraries"
      ],
      "metadata": {
        "id": "j8gNk2SbcGrI"
      }
    },
    {
      "cell_type": "code",
      "execution_count": 2,
      "metadata": {
        "id": "aPI-EPgVTmC9"
      },
      "outputs": [],
      "source": [
        "import numpy as np\n",
        "import pandas as pd\n",
        "import geopandas as gpd\n",
        "import json\n",
        "import csv\n",
        "\n",
        "import matplotlib.pyplot as plt\n",
        "from shapely.geometry import box, Polygon, LineString, Point\n",
        "\n",
        "import os"
      ]
    },
    {
      "cell_type": "markdown",
      "source": [
        "# Example Code from Dr. Griffin"
      ],
      "metadata": {
        "id": "UwQckF2NcKUg"
      }
    },
    {
      "cell_type": "code",
      "source": [
        "# pandas data frame from cites in a csv\n",
        "df = pd.read_csv(\"ufo_data.csv\")\n",
        "\n",
        "df.head()"
      ],
      "metadata": {
        "colab": {
          "base_uri": "https://localhost:8080/",
          "height": 302
        },
        "id": "sDsS8Q55Upc_",
        "outputId": "6fc30ae7-e8b0-4aee-897b-bac2ea1b2b7b"
      },
      "execution_count": 3,
      "outputs": [
        {
          "output_type": "execute_result",
          "data": {
            "text/plain": [
              "         city state     shape       duration            date_time         lon  \\\n",
              "0     Visalia    CA     light      2 minutes  2021-12-15T21:45:00 -119.347937   \n",
              "1  Cincinnati    OH  triangle     14 seconds  2021-12-16T09:45:00  -84.481363   \n",
              "2   Knoxville    TN  triangle  20-30 seconds  2021-12-10T19:30:00  -83.980115   \n",
              "3   Fullerton    CA   unknown      2 minutes  2020-07-07T23:00:00 -117.924978   \n",
              "4   Las Vegas    NV      oval     10 minutes  2020-04-23T03:00:00 -115.186592   \n",
              "\n",
              "         lat  \n",
              "0  36.356650  \n",
              "1  39.174503  \n",
              "2  35.961561  \n",
              "3  33.877422  \n",
              "4  36.141246  "
            ],
            "text/html": [
              "\n",
              "  <div id=\"df-33c4ee2f-d30c-4d28-a028-076f2edbd07e\">\n",
              "    <div class=\"colab-df-container\">\n",
              "      <div>\n",
              "<style scoped>\n",
              "    .dataframe tbody tr th:only-of-type {\n",
              "        vertical-align: middle;\n",
              "    }\n",
              "\n",
              "    .dataframe tbody tr th {\n",
              "        vertical-align: top;\n",
              "    }\n",
              "\n",
              "    .dataframe thead th {\n",
              "        text-align: right;\n",
              "    }\n",
              "</style>\n",
              "<table border=\"1\" class=\"dataframe\">\n",
              "  <thead>\n",
              "    <tr style=\"text-align: right;\">\n",
              "      <th></th>\n",
              "      <th>city</th>\n",
              "      <th>state</th>\n",
              "      <th>shape</th>\n",
              "      <th>duration</th>\n",
              "      <th>date_time</th>\n",
              "      <th>lon</th>\n",
              "      <th>lat</th>\n",
              "    </tr>\n",
              "  </thead>\n",
              "  <tbody>\n",
              "    <tr>\n",
              "      <th>0</th>\n",
              "      <td>Visalia</td>\n",
              "      <td>CA</td>\n",
              "      <td>light</td>\n",
              "      <td>2 minutes</td>\n",
              "      <td>2021-12-15T21:45:00</td>\n",
              "      <td>-119.347937</td>\n",
              "      <td>36.356650</td>\n",
              "    </tr>\n",
              "    <tr>\n",
              "      <th>1</th>\n",
              "      <td>Cincinnati</td>\n",
              "      <td>OH</td>\n",
              "      <td>triangle</td>\n",
              "      <td>14 seconds</td>\n",
              "      <td>2021-12-16T09:45:00</td>\n",
              "      <td>-84.481363</td>\n",
              "      <td>39.174503</td>\n",
              "    </tr>\n",
              "    <tr>\n",
              "      <th>2</th>\n",
              "      <td>Knoxville</td>\n",
              "      <td>TN</td>\n",
              "      <td>triangle</td>\n",
              "      <td>20-30 seconds</td>\n",
              "      <td>2021-12-10T19:30:00</td>\n",
              "      <td>-83.980115</td>\n",
              "      <td>35.961561</td>\n",
              "    </tr>\n",
              "    <tr>\n",
              "      <th>3</th>\n",
              "      <td>Fullerton</td>\n",
              "      <td>CA</td>\n",
              "      <td>unknown</td>\n",
              "      <td>2 minutes</td>\n",
              "      <td>2020-07-07T23:00:00</td>\n",
              "      <td>-117.924978</td>\n",
              "      <td>33.877422</td>\n",
              "    </tr>\n",
              "    <tr>\n",
              "      <th>4</th>\n",
              "      <td>Las Vegas</td>\n",
              "      <td>NV</td>\n",
              "      <td>oval</td>\n",
              "      <td>10 minutes</td>\n",
              "      <td>2020-04-23T03:00:00</td>\n",
              "      <td>-115.186592</td>\n",
              "      <td>36.141246</td>\n",
              "    </tr>\n",
              "  </tbody>\n",
              "</table>\n",
              "</div>\n",
              "      <button class=\"colab-df-convert\" onclick=\"convertToInteractive('df-33c4ee2f-d30c-4d28-a028-076f2edbd07e')\"\n",
              "              title=\"Convert this dataframe to an interactive table.\"\n",
              "              style=\"display:none;\">\n",
              "        \n",
              "  <svg xmlns=\"http://www.w3.org/2000/svg\" height=\"24px\"viewBox=\"0 0 24 24\"\n",
              "       width=\"24px\">\n",
              "    <path d=\"M0 0h24v24H0V0z\" fill=\"none\"/>\n",
              "    <path d=\"M18.56 5.44l.94 2.06.94-2.06 2.06-.94-2.06-.94-.94-2.06-.94 2.06-2.06.94zm-11 1L8.5 8.5l.94-2.06 2.06-.94-2.06-.94L8.5 2.5l-.94 2.06-2.06.94zm10 10l.94 2.06.94-2.06 2.06-.94-2.06-.94-.94-2.06-.94 2.06-2.06.94z\"/><path d=\"M17.41 7.96l-1.37-1.37c-.4-.4-.92-.59-1.43-.59-.52 0-1.04.2-1.43.59L10.3 9.45l-7.72 7.72c-.78.78-.78 2.05 0 2.83L4 21.41c.39.39.9.59 1.41.59.51 0 1.02-.2 1.41-.59l7.78-7.78 2.81-2.81c.8-.78.8-2.07 0-2.86zM5.41 20L4 18.59l7.72-7.72 1.47 1.35L5.41 20z\"/>\n",
              "  </svg>\n",
              "      </button>\n",
              "      \n",
              "  <style>\n",
              "    .colab-df-container {\n",
              "      display:flex;\n",
              "      flex-wrap:wrap;\n",
              "      gap: 12px;\n",
              "    }\n",
              "\n",
              "    .colab-df-convert {\n",
              "      background-color: #E8F0FE;\n",
              "      border: none;\n",
              "      border-radius: 50%;\n",
              "      cursor: pointer;\n",
              "      display: none;\n",
              "      fill: #1967D2;\n",
              "      height: 32px;\n",
              "      padding: 0 0 0 0;\n",
              "      width: 32px;\n",
              "    }\n",
              "\n",
              "    .colab-df-convert:hover {\n",
              "      background-color: #E2EBFA;\n",
              "      box-shadow: 0px 1px 2px rgba(60, 64, 67, 0.3), 0px 1px 3px 1px rgba(60, 64, 67, 0.15);\n",
              "      fill: #174EA6;\n",
              "    }\n",
              "\n",
              "    [theme=dark] .colab-df-convert {\n",
              "      background-color: #3B4455;\n",
              "      fill: #D2E3FC;\n",
              "    }\n",
              "\n",
              "    [theme=dark] .colab-df-convert:hover {\n",
              "      background-color: #434B5C;\n",
              "      box-shadow: 0px 1px 3px 1px rgba(0, 0, 0, 0.15);\n",
              "      filter: drop-shadow(0px 1px 2px rgba(0, 0, 0, 0.3));\n",
              "      fill: #FFFFFF;\n",
              "    }\n",
              "  </style>\n",
              "\n",
              "      <script>\n",
              "        const buttonEl =\n",
              "          document.querySelector('#df-33c4ee2f-d30c-4d28-a028-076f2edbd07e button.colab-df-convert');\n",
              "        buttonEl.style.display =\n",
              "          google.colab.kernel.accessAllowed ? 'block' : 'none';\n",
              "\n",
              "        async function convertToInteractive(key) {\n",
              "          const element = document.querySelector('#df-33c4ee2f-d30c-4d28-a028-076f2edbd07e');\n",
              "          const dataTable =\n",
              "            await google.colab.kernel.invokeFunction('convertToInteractive',\n",
              "                                                     [key], {});\n",
              "          if (!dataTable) return;\n",
              "\n",
              "          const docLinkHtml = 'Like what you see? Visit the ' +\n",
              "            '<a target=\"_blank\" href=https://colab.research.google.com/notebooks/data_table.ipynb>data table notebook</a>'\n",
              "            + ' to learn more about interactive tables.';\n",
              "          element.innerHTML = '';\n",
              "          dataTable['output_type'] = 'display_data';\n",
              "          await google.colab.output.renderOutput(dataTable, element);\n",
              "          const docLink = document.createElement('div');\n",
              "          docLink.innerHTML = docLinkHtml;\n",
              "          element.appendChild(docLink);\n",
              "        }\n",
              "      </script>\n",
              "    </div>\n",
              "  </div>\n",
              "  "
            ]
          },
          "metadata": {},
          "execution_count": 3
        }
      ]
    },
    {
      "cell_type": "code",
      "source": [
        "gdf = gpd.GeoDataFrame(df, geometry=gpd.points_from_xy(df.lon, df.lat))\n",
        "gdf.set_crs(epsg=4326, inplace=True)\n",
        "gdf.head()"
      ],
      "metadata": {
        "colab": {
          "base_uri": "https://localhost:8080/",
          "height": 444
        },
        "id": "7l-kn9AUVC93",
        "outputId": "983790f7-9136-44d1-b6ef-267122645ac9"
      },
      "execution_count": 4,
      "outputs": [
        {
          "output_type": "execute_result",
          "data": {
            "text/plain": [
              "         city state     shape       duration            date_time         lon  \\\n",
              "0     Visalia    CA     light      2 minutes  2021-12-15T21:45:00 -119.347937   \n",
              "1  Cincinnati    OH  triangle     14 seconds  2021-12-16T09:45:00  -84.481363   \n",
              "2   Knoxville    TN  triangle  20-30 seconds  2021-12-10T19:30:00  -83.980115   \n",
              "3   Fullerton    CA   unknown      2 minutes  2020-07-07T23:00:00 -117.924978   \n",
              "4   Las Vegas    NV      oval     10 minutes  2020-04-23T03:00:00 -115.186592   \n",
              "\n",
              "         lat                     geometry  \n",
              "0  36.356650  POINT (-119.34794 36.35665)  \n",
              "1  39.174503   POINT (-84.48136 39.17450)  \n",
              "2  35.961561   POINT (-83.98012 35.96156)  \n",
              "3  33.877422  POINT (-117.92498 33.87742)  \n",
              "4  36.141246  POINT (-115.18659 36.14125)  "
            ],
            "text/html": [
              "\n",
              "  <div id=\"df-4e232ec2-e4e7-47be-a883-96f0a4b6af08\">\n",
              "    <div class=\"colab-df-container\">\n",
              "      <div>\n",
              "<style scoped>\n",
              "    .dataframe tbody tr th:only-of-type {\n",
              "        vertical-align: middle;\n",
              "    }\n",
              "\n",
              "    .dataframe tbody tr th {\n",
              "        vertical-align: top;\n",
              "    }\n",
              "\n",
              "    .dataframe thead th {\n",
              "        text-align: right;\n",
              "    }\n",
              "</style>\n",
              "<table border=\"1\" class=\"dataframe\">\n",
              "  <thead>\n",
              "    <tr style=\"text-align: right;\">\n",
              "      <th></th>\n",
              "      <th>city</th>\n",
              "      <th>state</th>\n",
              "      <th>shape</th>\n",
              "      <th>duration</th>\n",
              "      <th>date_time</th>\n",
              "      <th>lon</th>\n",
              "      <th>lat</th>\n",
              "      <th>geometry</th>\n",
              "    </tr>\n",
              "  </thead>\n",
              "  <tbody>\n",
              "    <tr>\n",
              "      <th>0</th>\n",
              "      <td>Visalia</td>\n",
              "      <td>CA</td>\n",
              "      <td>light</td>\n",
              "      <td>2 minutes</td>\n",
              "      <td>2021-12-15T21:45:00</td>\n",
              "      <td>-119.347937</td>\n",
              "      <td>36.356650</td>\n",
              "      <td>POINT (-119.34794 36.35665)</td>\n",
              "    </tr>\n",
              "    <tr>\n",
              "      <th>1</th>\n",
              "      <td>Cincinnati</td>\n",
              "      <td>OH</td>\n",
              "      <td>triangle</td>\n",
              "      <td>14 seconds</td>\n",
              "      <td>2021-12-16T09:45:00</td>\n",
              "      <td>-84.481363</td>\n",
              "      <td>39.174503</td>\n",
              "      <td>POINT (-84.48136 39.17450)</td>\n",
              "    </tr>\n",
              "    <tr>\n",
              "      <th>2</th>\n",
              "      <td>Knoxville</td>\n",
              "      <td>TN</td>\n",
              "      <td>triangle</td>\n",
              "      <td>20-30 seconds</td>\n",
              "      <td>2021-12-10T19:30:00</td>\n",
              "      <td>-83.980115</td>\n",
              "      <td>35.961561</td>\n",
              "      <td>POINT (-83.98012 35.96156)</td>\n",
              "    </tr>\n",
              "    <tr>\n",
              "      <th>3</th>\n",
              "      <td>Fullerton</td>\n",
              "      <td>CA</td>\n",
              "      <td>unknown</td>\n",
              "      <td>2 minutes</td>\n",
              "      <td>2020-07-07T23:00:00</td>\n",
              "      <td>-117.924978</td>\n",
              "      <td>33.877422</td>\n",
              "      <td>POINT (-117.92498 33.87742)</td>\n",
              "    </tr>\n",
              "    <tr>\n",
              "      <th>4</th>\n",
              "      <td>Las Vegas</td>\n",
              "      <td>NV</td>\n",
              "      <td>oval</td>\n",
              "      <td>10 minutes</td>\n",
              "      <td>2020-04-23T03:00:00</td>\n",
              "      <td>-115.186592</td>\n",
              "      <td>36.141246</td>\n",
              "      <td>POINT (-115.18659 36.14125)</td>\n",
              "    </tr>\n",
              "  </tbody>\n",
              "</table>\n",
              "</div>\n",
              "      <button class=\"colab-df-convert\" onclick=\"convertToInteractive('df-4e232ec2-e4e7-47be-a883-96f0a4b6af08')\"\n",
              "              title=\"Convert this dataframe to an interactive table.\"\n",
              "              style=\"display:none;\">\n",
              "        \n",
              "  <svg xmlns=\"http://www.w3.org/2000/svg\" height=\"24px\"viewBox=\"0 0 24 24\"\n",
              "       width=\"24px\">\n",
              "    <path d=\"M0 0h24v24H0V0z\" fill=\"none\"/>\n",
              "    <path d=\"M18.56 5.44l.94 2.06.94-2.06 2.06-.94-2.06-.94-.94-2.06-.94 2.06-2.06.94zm-11 1L8.5 8.5l.94-2.06 2.06-.94-2.06-.94L8.5 2.5l-.94 2.06-2.06.94zm10 10l.94 2.06.94-2.06 2.06-.94-2.06-.94-.94-2.06-.94 2.06-2.06.94z\"/><path d=\"M17.41 7.96l-1.37-1.37c-.4-.4-.92-.59-1.43-.59-.52 0-1.04.2-1.43.59L10.3 9.45l-7.72 7.72c-.78.78-.78 2.05 0 2.83L4 21.41c.39.39.9.59 1.41.59.51 0 1.02-.2 1.41-.59l7.78-7.78 2.81-2.81c.8-.78.8-2.07 0-2.86zM5.41 20L4 18.59l7.72-7.72 1.47 1.35L5.41 20z\"/>\n",
              "  </svg>\n",
              "      </button>\n",
              "      \n",
              "  <style>\n",
              "    .colab-df-container {\n",
              "      display:flex;\n",
              "      flex-wrap:wrap;\n",
              "      gap: 12px;\n",
              "    }\n",
              "\n",
              "    .colab-df-convert {\n",
              "      background-color: #E8F0FE;\n",
              "      border: none;\n",
              "      border-radius: 50%;\n",
              "      cursor: pointer;\n",
              "      display: none;\n",
              "      fill: #1967D2;\n",
              "      height: 32px;\n",
              "      padding: 0 0 0 0;\n",
              "      width: 32px;\n",
              "    }\n",
              "\n",
              "    .colab-df-convert:hover {\n",
              "      background-color: #E2EBFA;\n",
              "      box-shadow: 0px 1px 2px rgba(60, 64, 67, 0.3), 0px 1px 3px 1px rgba(60, 64, 67, 0.15);\n",
              "      fill: #174EA6;\n",
              "    }\n",
              "\n",
              "    [theme=dark] .colab-df-convert {\n",
              "      background-color: #3B4455;\n",
              "      fill: #D2E3FC;\n",
              "    }\n",
              "\n",
              "    [theme=dark] .colab-df-convert:hover {\n",
              "      background-color: #434B5C;\n",
              "      box-shadow: 0px 1px 3px 1px rgba(0, 0, 0, 0.15);\n",
              "      filter: drop-shadow(0px 1px 2px rgba(0, 0, 0, 0.3));\n",
              "      fill: #FFFFFF;\n",
              "    }\n",
              "  </style>\n",
              "\n",
              "      <script>\n",
              "        const buttonEl =\n",
              "          document.querySelector('#df-4e232ec2-e4e7-47be-a883-96f0a4b6af08 button.colab-df-convert');\n",
              "        buttonEl.style.display =\n",
              "          google.colab.kernel.accessAllowed ? 'block' : 'none';\n",
              "\n",
              "        async function convertToInteractive(key) {\n",
              "          const element = document.querySelector('#df-4e232ec2-e4e7-47be-a883-96f0a4b6af08');\n",
              "          const dataTable =\n",
              "            await google.colab.kernel.invokeFunction('convertToInteractive',\n",
              "                                                     [key], {});\n",
              "          if (!dataTable) return;\n",
              "\n",
              "          const docLinkHtml = 'Like what you see? Visit the ' +\n",
              "            '<a target=\"_blank\" href=https://colab.research.google.com/notebooks/data_table.ipynb>data table notebook</a>'\n",
              "            + ' to learn more about interactive tables.';\n",
              "          element.innerHTML = '';\n",
              "          dataTable['output_type'] = 'display_data';\n",
              "          await google.colab.output.renderOutput(dataTable, element);\n",
              "          const docLink = document.createElement('div');\n",
              "          docLink.innerHTML = docLinkHtml;\n",
              "          element.appendChild(docLink);\n",
              "        }\n",
              "      </script>\n",
              "    </div>\n",
              "  </div>\n",
              "  "
            ]
          },
          "metadata": {},
          "execution_count": 4
        }
      ]
    },
    {
      "cell_type": "markdown",
      "source": [
        "# Opening/Converting Data Files"
      ],
      "metadata": {
        "id": "KmiVyjducQnY"
      }
    },
    {
      "cell_type": "code",
      "source": [
        "# open city file\n",
        "with open(\"cities.geojson\", 'r') as cities:\n",
        "  cityData = json.load(cities)"
      ],
      "metadata": {
        "id": "vGtPwWT1VJNO"
      },
      "execution_count": 5,
      "outputs": []
    },
    {
      "cell_type": "code",
      "source": [
        "cityData"
      ],
      "metadata": {
        "colab": {
          "base_uri": "https://localhost:8080/"
        },
        "id": "KoDx6MkWW_78",
        "outputId": "31d058a9-96b2-41fc-8f16-eb37eb18b58a"
      },
      "execution_count": 6,
      "outputs": [
        {
          "output_type": "execute_result",
          "data": {
            "text/plain": [
              "{'features': [{'geometry': {'coordinates': [-122.676482, 45.523062],\n",
              "    'type': 'Point'},\n",
              "   'properties': {'city': 'Portland',\n",
              "    'growth': 15,\n",
              "    'marker-color': '#879CB9',\n",
              "    'marker-size': 'medium',\n",
              "    'population': 609456,\n",
              "    'rank': 29,\n",
              "    'state': 'Oregon'},\n",
              "   'type': 'Feature'},\n",
              "  {'geometry': {'coordinates': [-122.332071, 47.606209], 'type': 'Point'},\n",
              "   'properties': {'city': 'Seattle',\n",
              "    'growth': 15.6,\n",
              "    'marker-color': '#14F334',\n",
              "    'marker-size': 'medium',\n",
              "    'population': 652405,\n",
              "    'rank': 21,\n",
              "    'state': 'Washington'},\n",
              "   'type': 'Feature'},\n",
              "  {'geometry': {'coordinates': [-118.243685, 34.052234], 'type': 'Point'},\n",
              "   'properties': {'city': 'Los Angeles',\n",
              "    'growth': 4.8,\n",
              "    'marker-color': '#5F2B67',\n",
              "    'marker-size': 'medium',\n",
              "    'population': 3884307,\n",
              "    'rank': 2,\n",
              "    'state': 'California'},\n",
              "   'type': 'Feature'},\n",
              "  {'geometry': {'coordinates': [-116.214607, 43.61871], 'type': 'Point'},\n",
              "   'properties': {'city': 'Boise City',\n",
              "    'growth': 9.5,\n",
              "    'marker-color': '#94EEF1',\n",
              "    'marker-size': 'medium',\n",
              "    'population': 214237,\n",
              "    'rank': 98,\n",
              "    'state': 'Idaho'},\n",
              "   'type': 'Feature'},\n",
              "  {'geometry': {'coordinates': [-115.13983, 36.169941], 'type': 'Point'},\n",
              "   'properties': {'city': 'Las Vegas',\n",
              "    'growth': 24.5,\n",
              "    'marker-color': '#F3E40F',\n",
              "    'marker-size': 'medium',\n",
              "    'population': 603488,\n",
              "    'rank': 30,\n",
              "    'state': 'Nevada'},\n",
              "   'type': 'Feature'},\n",
              "  {'geometry': {'coordinates': [-112.074037, 33.448377], 'type': 'Point'},\n",
              "   'properties': {'city': 'Phoenix',\n",
              "    'growth': 14,\n",
              "    'marker-color': '#D2E3F1',\n",
              "    'marker-size': 'medium',\n",
              "    'population': 1513367,\n",
              "    'rank': 6,\n",
              "    'state': 'Arizona'},\n",
              "   'type': 'Feature'},\n",
              "  {'geometry': {'coordinates': [-111.891047, 40.760779], 'type': 'Point'},\n",
              "   'properties': {'city': 'Salt Lake City',\n",
              "    'growth': 5.1,\n",
              "    'marker-color': '#DBEDE8',\n",
              "    'marker-size': 'medium',\n",
              "    'population': 191180,\n",
              "    'rank': 124,\n",
              "    'state': 'Utah'},\n",
              "   'type': 'Feature'},\n",
              "  {'geometry': {'coordinates': [-108.50069, 45.783286], 'type': 'Point'},\n",
              "   'properties': {'city': 'Billings',\n",
              "    'growth': 18.6,\n",
              "    'marker-color': '#EF42B6',\n",
              "    'marker-size': 'medium',\n",
              "    'population': 109059,\n",
              "    'rank': 256,\n",
              "    'state': 'Montana'},\n",
              "   'type': 'Feature'},\n",
              "  {'geometry': {'coordinates': [-106.605553, 35.085334], 'type': 'Point'},\n",
              "   'properties': {'city': 'Albuquerque',\n",
              "    'growth': 23.5,\n",
              "    'marker-color': '#16E9B7',\n",
              "    'marker-size': 'medium',\n",
              "    'population': 556495,\n",
              "    'rank': 32,\n",
              "    'state': 'New Mexico'},\n",
              "   'type': 'Feature'},\n",
              "  {'geometry': {'coordinates': [-104.990251, 39.739236], 'type': 'Point'},\n",
              "   'properties': {'city': 'Denver',\n",
              "    'growth': 16.7,\n",
              "    'marker-color': '#931B46',\n",
              "    'marker-size': 'medium',\n",
              "    'population': 649495,\n",
              "    'rank': 22,\n",
              "    'state': 'Colorado'},\n",
              "   'type': 'Feature'},\n",
              "  {'geometry': {'coordinates': [-104.820246, 41.139981], 'type': 'Point'},\n",
              "   'properties': {'city': 'Cheyenne',\n",
              "    'growth': 16.9,\n",
              "    'marker-color': '#50DD3D',\n",
              "    'marker-size': 'medium',\n",
              "    'population': 62448,\n",
              "    'rank': 558,\n",
              "    'state': 'Wyoming'},\n",
              "   'type': 'Feature'},\n",
              "  {'geometry': {'coordinates': [-97.516428, 35.46756], 'type': 'Point'},\n",
              "   'properties': {'city': 'Oklahoma City',\n",
              "    'growth': 20.2,\n",
              "    'marker-color': '#B2A3FD',\n",
              "    'marker-size': 'medium',\n",
              "    'population': 610613,\n",
              "    'rank': 27,\n",
              "    'state': 'Oklahoma'},\n",
              "   'type': 'Feature'},\n",
              "  {'geometry': {'coordinates': [-97.336111, 37.688889], 'type': 'Point'},\n",
              "   'properties': {'city': 'Wichita',\n",
              "    'growth': 9.7,\n",
              "    'marker-color': '#E1A781',\n",
              "    'marker-size': 'medium',\n",
              "    'population': 386552,\n",
              "    'rank': 49,\n",
              "    'state': 'Kansas'},\n",
              "   'type': 'Feature'},\n",
              "  {'geometry': {'coordinates': [-96.789803, 46.877186], 'type': 'Point'},\n",
              "   'properties': {'city': 'Fargo',\n",
              "    'growth': 24.9,\n",
              "    'marker-color': '#766A2C',\n",
              "    'marker-size': 'medium',\n",
              "    'population': 113658,\n",
              "    'rank': 237,\n",
              "    'state': 'North Dakota'},\n",
              "   'type': 'Feature'},\n",
              "  {'geometry': {'coordinates': [-96.731103, 43.544596], 'type': 'Point'},\n",
              "   'properties': {'city': 'Sioux Falls',\n",
              "    'growth': 31.1,\n",
              "    'marker-color': '#A0CD89',\n",
              "    'marker-size': 'medium',\n",
              "    'population': 164676,\n",
              "    'rank': 147,\n",
              "    'state': 'South Dakota'},\n",
              "   'type': 'Feature'},\n",
              "  {'geometry': {'coordinates': [-95.997988, 41.252363], 'type': 'Point'},\n",
              "   'properties': {'city': 'Omaha',\n",
              "    'growth': 5.9,\n",
              "    'marker-color': '#C224F6',\n",
              "    'marker-size': 'medium',\n",
              "    'population': 434353,\n",
              "    'rank': 42,\n",
              "    'state': 'Nebraska'},\n",
              "   'type': 'Feature'},\n",
              "  {'geometry': {'coordinates': [-95.369803, 29.760427], 'type': 'Point'},\n",
              "   'properties': {'city': 'Houston',\n",
              "    'growth': 11,\n",
              "    'marker-color': '#C2C694',\n",
              "    'marker-size': 'medium',\n",
              "    'population': 2195914,\n",
              "    'rank': 4,\n",
              "    'state': 'Texas'},\n",
              "   'type': 'Feature'},\n",
              "  {'geometry': {'coordinates': [-94.578567, 39.099727], 'type': 'Point'},\n",
              "   'properties': {'city': 'Kansas City',\n",
              "    'growth': 5.5,\n",
              "    'marker-color': '#1B8AC7',\n",
              "    'marker-size': 'medium',\n",
              "    'population': 467007,\n",
              "    'rank': 37,\n",
              "    'state': 'Missouri'},\n",
              "   'type': 'Feature'},\n",
              "  {'geometry': {'coordinates': [-93.609106, 41.600545], 'type': 'Point'},\n",
              "   'properties': {'city': 'Des Moines',\n",
              "    'growth': 3.9,\n",
              "    'marker-color': '#1D6672',\n",
              "    'marker-size': 'medium',\n",
              "    'population': 207510,\n",
              "    'rank': 104,\n",
              "    'state': 'Iowa'},\n",
              "   'type': 'Feature'},\n",
              "  {'geometry': {'coordinates': [-93.265011, 44.977753], 'type': 'Point'},\n",
              "   'properties': {'city': 'Minneapolis',\n",
              "    'growth': 4.5,\n",
              "    'marker-color': '#F16DD3',\n",
              "    'marker-size': 'medium',\n",
              "    'population': 400070,\n",
              "    'rank': 46,\n",
              "    'state': 'Minnesota'},\n",
              "   'type': 'Feature'},\n",
              "  {'geometry': {'coordinates': [-92.289595, 34.746481], 'type': 'Point'},\n",
              "   'properties': {'city': 'Little Rock',\n",
              "    'growth': 7.6,\n",
              "    'marker-color': '#EA684A',\n",
              "    'marker-size': 'medium',\n",
              "    'population': 197357,\n",
              "    'rank': 118,\n",
              "    'state': 'Arkansas'},\n",
              "   'type': 'Feature'},\n",
              "  {'geometry': {'coordinates': [-90.18481, 32.298757], 'type': 'Point'},\n",
              "   'properties': {'city': 'Jackson',\n",
              "    'growth': -6.8,\n",
              "    'marker-color': '#5548A8',\n",
              "    'marker-size': 'medium',\n",
              "    'population': 172638,\n",
              "    'rank': 138,\n",
              "    'state': 'Mississippi'},\n",
              "   'type': 'Feature'},\n",
              "  {'geometry': {'coordinates': [-90.071532, 29.951066], 'type': 'Point'},\n",
              "   'properties': {'city': 'New Orleans',\n",
              "    'growth': -21.6,\n",
              "    'marker-color': '#5D0A76',\n",
              "    'marker-size': 'medium',\n",
              "    'population': 378715,\n",
              "    'rank': 51,\n",
              "    'state': 'Louisiana'},\n",
              "   'type': 'Feature'},\n",
              "  {'geometry': {'coordinates': [-90.04898, 35.149534], 'type': 'Point'},\n",
              "   'properties': {'city': 'Memphis',\n",
              "    'growth': -5.3,\n",
              "    'marker-color': '#6275C9',\n",
              "    'marker-size': 'medium',\n",
              "    'population': 653450,\n",
              "    'rank': 20,\n",
              "    'state': 'Tennessee'},\n",
              "   'type': 'Feature'},\n",
              "  {'geometry': {'coordinates': [-87.906474, 43.038902], 'type': 'Point'},\n",
              "   'properties': {'city': 'Milwaukee',\n",
              "    'growth': 0.3,\n",
              "    'marker-color': '#2A3D4B',\n",
              "    'marker-size': 'medium',\n",
              "    'population': 599164,\n",
              "    'rank': 31,\n",
              "    'state': 'Wisconsin'},\n",
              "   'type': 'Feature'},\n",
              "  {'geometry': {'coordinates': [-87.629798, 41.878114], 'type': 'Point'},\n",
              "   'properties': {'city': 'Chicago',\n",
              "    'growth': -6.1,\n",
              "    'marker-color': '#58E72E',\n",
              "    'marker-size': 'medium',\n",
              "    'population': 2718782,\n",
              "    'rank': 3,\n",
              "    'state': 'Illinois'},\n",
              "   'type': 'Feature'},\n",
              "  {'geometry': {'coordinates': [-86.80249, 33.520661], 'type': 'Point'},\n",
              "   'properties': {'city': 'Birmingham',\n",
              "    'growth': -12.3,\n",
              "    'marker-color': '#7475A2',\n",
              "    'marker-size': 'medium',\n",
              "    'population': 212113,\n",
              "    'rank': 101,\n",
              "    'state': 'Alabama'},\n",
              "   'type': 'Feature'},\n",
              "  {'geometry': {'coordinates': [-86.158068, 39.768403], 'type': 'Point'},\n",
              "   'properties': {'city': 'Indianapolis',\n",
              "    'growth': 7.8,\n",
              "    'marker-color': '#E7E184',\n",
              "    'marker-size': 'medium',\n",
              "    'population': 843393,\n",
              "    'rank': 12,\n",
              "    'state': 'Indiana'},\n",
              "   'type': 'Feature'},\n",
              "  {'geometry': {'coordinates': [-85.758456, 38.252665], 'type': 'Point'},\n",
              "   'properties': {'city': 'Louisville/Jefferson County',\n",
              "    'growth': 10,\n",
              "    'marker-color': '#745FE1',\n",
              "    'marker-size': 'medium',\n",
              "    'population': 609893,\n",
              "    'rank': 28,\n",
              "    'state': 'Kentucky'},\n",
              "   'type': 'Feature'},\n",
              "  {'geometry': {'coordinates': [-84.387982, 33.748995], 'type': 'Point'},\n",
              "   'properties': {'city': 'Atlanta',\n",
              "    'growth': 6.2,\n",
              "    'marker-color': '#4B2969',\n",
              "    'marker-size': 'medium',\n",
              "    'population': 447841,\n",
              "    'rank': 40,\n",
              "    'state': 'Georgia'},\n",
              "   'type': 'Feature'},\n",
              "  {'geometry': {'coordinates': [-83.045754, 42.331427], 'type': 'Point'},\n",
              "   'properties': {'city': 'Detroit',\n",
              "    'growth': -27.1,\n",
              "    'marker-color': '#0E07B8',\n",
              "    'marker-size': 'medium',\n",
              "    'population': 688701,\n",
              "    'rank': 18,\n",
              "    'state': 'Michigan'},\n",
              "   'type': 'Feature'},\n",
              "  {'geometry': {'coordinates': [-82.998794, 39.961176], 'type': 'Point'},\n",
              "   'properties': {'city': 'Columbus',\n",
              "    'growth': 14.8,\n",
              "    'marker-color': '#802710',\n",
              "    'marker-size': 'medium',\n",
              "    'population': 822553,\n",
              "    'rank': 15,\n",
              "    'state': 'Ohio'},\n",
              "   'type': 'Feature'},\n",
              "  {'geometry': {'coordinates': [-81.655651, 30.332184], 'type': 'Point'},\n",
              "   'properties': {'city': 'Jacksonville',\n",
              "    'growth': 14.3,\n",
              "    'marker-color': '#DDD824',\n",
              "    'marker-size': 'medium',\n",
              "    'population': 842583,\n",
              "    'rank': 13,\n",
              "    'state': 'Florida'},\n",
              "   'type': 'Feature'},\n",
              "  {'geometry': {'coordinates': [-81.632623, 38.34982], 'type': 'Point'},\n",
              "   'properties': {'city': 'Charleston',\n",
              "    'growth': -4.7,\n",
              "    'marker-color': '#3EEF5B',\n",
              "    'marker-size': 'medium',\n",
              "    'population': 50821,\n",
              "    'rank': 725,\n",
              "    'state': 'West Virginia'},\n",
              "   'type': 'Feature'},\n",
              "  {'geometry': {'coordinates': [-81.034814, 34.00071], 'type': 'Point'},\n",
              "   'properties': {'city': 'Columbia',\n",
              "    'growth': 11.7,\n",
              "    'marker-color': '#C00D17',\n",
              "    'marker-size': 'medium',\n",
              "    'population': 133358,\n",
              "    'rank': 192,\n",
              "    'state': 'South Carolina'},\n",
              "   'type': 'Feature'},\n",
              "  {'geometry': {'coordinates': [-80.843127, 35.227087], 'type': 'Point'},\n",
              "   'properties': {'city': 'Charlotte',\n",
              "    'growth': 39.1,\n",
              "    'marker-color': '#3DF451',\n",
              "    'marker-size': 'medium',\n",
              "    'population': 792862,\n",
              "    'rank': 16,\n",
              "    'state': 'North Carolina'},\n",
              "   'type': 'Feature'},\n",
              "  {'geometry': {'coordinates': [-77.036871, 38.907192], 'type': 'Point'},\n",
              "   'properties': {'city': 'Washington',\n",
              "    'growth': 13,\n",
              "    'marker-color': '#F9BF6A',\n",
              "    'marker-size': 'medium',\n",
              "    'population': 646449,\n",
              "    'rank': 23,\n",
              "    'state': 'District of Columbia'},\n",
              "   'type': 'Feature'},\n",
              "  {'geometry': {'coordinates': [-76.612189, 39.290385], 'type': 'Point'},\n",
              "   'properties': {'city': 'Baltimore',\n",
              "    'growth': -4,\n",
              "    'marker-color': '#560315',\n",
              "    'marker-size': 'medium',\n",
              "    'population': 622104,\n",
              "    'rank': 26,\n",
              "    'state': 'Maryland'},\n",
              "   'type': 'Feature'},\n",
              "  {'geometry': {'coordinates': [-75.977985, 36.852926], 'type': 'Point'},\n",
              "   'properties': {'city': 'Virginia Beach',\n",
              "    'growth': 5.1,\n",
              "    'marker-color': '#C4330B',\n",
              "    'marker-size': 'medium',\n",
              "    'population': 448479,\n",
              "    'rank': 39,\n",
              "    'state': 'Virginia'},\n",
              "   'type': 'Feature'},\n",
              "  {'geometry': {'coordinates': [-75.539788, 39.739072], 'type': 'Point'},\n",
              "   'properties': {'city': 'Wilmington',\n",
              "    'growth': -1.6,\n",
              "    'marker-color': '#C2C76B',\n",
              "    'marker-size': 'medium',\n",
              "    'population': 71525,\n",
              "    'rank': 470,\n",
              "    'state': 'Delaware'},\n",
              "   'type': 'Feature'},\n",
              "  {'geometry': {'coordinates': [-75.165222, 39.952584], 'type': 'Point'},\n",
              "   'properties': {'city': 'Philadelphia',\n",
              "    'growth': 2.6,\n",
              "    'marker-color': '#1CECBC',\n",
              "    'marker-size': 'medium',\n",
              "    'population': 1553165,\n",
              "    'rank': 5,\n",
              "    'state': 'Pennsylvania'},\n",
              "   'type': 'Feature'},\n",
              "  {'geometry': {'coordinates': [-74.172367, 40.735657], 'type': 'Point'},\n",
              "   'properties': {'city': 'Newark',\n",
              "    'growth': 2.1,\n",
              "    'marker-color': '#316C03',\n",
              "    'marker-size': 'medium',\n",
              "    'population': 278427,\n",
              "    'rank': 69,\n",
              "    'state': 'New Jersey'},\n",
              "   'type': 'Feature'},\n",
              "  {'geometry': {'coordinates': [-74.005941, 40.712784], 'type': 'Point'},\n",
              "   'properties': {'city': 'New York',\n",
              "    'growth': 4.8,\n",
              "    'marker-color': '#5481D4',\n",
              "    'marker-size': 'medium',\n",
              "    'population': 8405837,\n",
              "    'rank': 1,\n",
              "    'state': 'New York'},\n",
              "   'type': 'Feature'},\n",
              "  {'geometry': {'coordinates': [-73.212072, 44.475882], 'type': 'Point'},\n",
              "   'properties': {'city': 'Burlington',\n",
              "    'growth': 6.1,\n",
              "    'marker-color': '#8FB62B',\n",
              "    'marker-size': 'medium',\n",
              "    'population': 42284,\n",
              "    'rank': 870,\n",
              "    'state': 'Vermont'},\n",
              "   'type': 'Feature'},\n",
              "  {'geometry': {'coordinates': [-73.195177, 41.186548], 'type': 'Point'},\n",
              "   'properties': {'city': 'Bridgeport',\n",
              "    'growth': 5.4,\n",
              "    'marker-color': '#96880A',\n",
              "    'marker-size': 'medium',\n",
              "    'population': 147216,\n",
              "    'rank': 172,\n",
              "    'state': 'Connecticut'},\n",
              "   'type': 'Feature'},\n",
              "  {'geometry': {'coordinates': [-71.454789, 42.99564], 'type': 'Point'},\n",
              "   'properties': {'city': 'Manchester',\n",
              "    'growth': 2.9,\n",
              "    'marker-color': '#089632',\n",
              "    'marker-size': 'medium',\n",
              "    'population': 110378,\n",
              "    'rank': 248,\n",
              "    'state': 'New Hampshire'},\n",
              "   'type': 'Feature'},\n",
              "  {'geometry': {'coordinates': [-71.412834, 41.823989], 'type': 'Point'},\n",
              "   'properties': {'city': 'Providence',\n",
              "    'growth': 2.3,\n",
              "    'marker-color': '#C87C99',\n",
              "    'marker-size': 'medium',\n",
              "    'population': 177994,\n",
              "    'rank': 134,\n",
              "    'state': 'Rhode Island'},\n",
              "   'type': 'Feature'},\n",
              "  {'geometry': {'coordinates': [-71.05888, 42.360082], 'type': 'Point'},\n",
              "   'properties': {'city': 'Boston',\n",
              "    'growth': 9.4,\n",
              "    'marker-color': '#F39421',\n",
              "    'marker-size': 'medium',\n",
              "    'population': 645966,\n",
              "    'rank': 24,\n",
              "    'state': 'Massachusetts'},\n",
              "   'type': 'Feature'},\n",
              "  {'geometry': {'coordinates': [-70.255326, 43.661471], 'type': 'Point'},\n",
              "   'properties': {'city': 'Portland',\n",
              "    'growth': 3.2,\n",
              "    'marker-color': '#9F66E0',\n",
              "    'marker-size': 'medium',\n",
              "    'population': 66318,\n",
              "    'rank': 519,\n",
              "    'state': 'Maine'},\n",
              "   'type': 'Feature'}],\n",
              " 'type': 'FeatureCollection'}"
            ]
          },
          "metadata": {},
          "execution_count": 6
        }
      ]
    },
    {
      "cell_type": "code",
      "source": [
        "# list for storing UFO sightings\n",
        "ufoSightingList = []\n",
        "\n",
        "# open and convert csv to dictionary\n",
        "with open('ufo_data.csv') as ufoFile:\n",
        "  ufoDict = csv.DictReader(ufoFile)\n",
        "\n",
        "  # extract only coordinates from dictionary\n",
        "  for sighting in ufoDict:\n",
        "    latLon = float(sighting['lon']), float(sighting['lat'])\n",
        "    ufoSightingList.append(Point(latLon));"
      ],
      "metadata": {
        "id": "sJYwfVyZXIf6"
      },
      "execution_count": 7,
      "outputs": []
    },
    {
      "cell_type": "code",
      "source": [
        "len(ufoSightingList)"
      ],
      "metadata": {
        "colab": {
          "base_uri": "https://localhost:8080/"
        },
        "id": "NzOfQSThYa8H",
        "outputId": "9c0bfe09-2493-4339-dbfa-acc66fd3e227"
      },
      "execution_count": 8,
      "outputs": [
        {
          "output_type": "execute_result",
          "data": {
            "text/plain": [
              "100925"
            ]
          },
          "metadata": {},
          "execution_count": 8
        }
      ]
    },
    {
      "cell_type": "code",
      "source": [
        "# lists for storing city names and coordinates\n",
        "cities = []\n",
        "cityCoords = []\n",
        "\n",
        "for feature in cityData[\"features\"]:\n",
        "  if feature[\"geometry\"][\"type\"] == \"Point\":\n",
        "    cityCoords.append(feature[\"geometry\"][\"coordinates\"])\n",
        "    cities.append(feature[\"properties\"][\"city\"])"
      ],
      "metadata": {
        "id": "1dXmFO4VZCEu"
      },
      "execution_count": 26,
      "outputs": []
    },
    {
      "cell_type": "code",
      "source": [
        "cities "
      ],
      "metadata": {
        "colab": {
          "base_uri": "https://localhost:8080/"
        },
        "id": "nZA---n7ZJ-O",
        "outputId": "bd985c79-855e-4ab1-992e-5356a812b3d8"
      },
      "execution_count": 27,
      "outputs": [
        {
          "output_type": "execute_result",
          "data": {
            "text/plain": [
              "['Portland',\n",
              " 'Seattle',\n",
              " 'Los Angeles',\n",
              " 'Boise City',\n",
              " 'Las Vegas',\n",
              " 'Phoenix',\n",
              " 'Salt Lake City',\n",
              " 'Billings',\n",
              " 'Albuquerque',\n",
              " 'Denver',\n",
              " 'Cheyenne',\n",
              " 'Oklahoma City',\n",
              " 'Wichita',\n",
              " 'Fargo',\n",
              " 'Sioux Falls',\n",
              " 'Omaha',\n",
              " 'Houston',\n",
              " 'Kansas City',\n",
              " 'Des Moines',\n",
              " 'Minneapolis',\n",
              " 'Little Rock',\n",
              " 'Jackson',\n",
              " 'New Orleans',\n",
              " 'Memphis',\n",
              " 'Milwaukee',\n",
              " 'Chicago',\n",
              " 'Birmingham',\n",
              " 'Indianapolis',\n",
              " 'Louisville/Jefferson County',\n",
              " 'Atlanta',\n",
              " 'Detroit',\n",
              " 'Columbus',\n",
              " 'Jacksonville',\n",
              " 'Charleston',\n",
              " 'Columbia',\n",
              " 'Charlotte',\n",
              " 'Washington',\n",
              " 'Baltimore',\n",
              " 'Virginia Beach',\n",
              " 'Wilmington',\n",
              " 'Philadelphia',\n",
              " 'Newark',\n",
              " 'New York',\n",
              " 'Burlington',\n",
              " 'Bridgeport',\n",
              " 'Manchester',\n",
              " 'Providence',\n",
              " 'Boston',\n",
              " 'Portland']"
            ]
          },
          "metadata": {},
          "execution_count": 27
        }
      ]
    },
    {
      "cell_type": "code",
      "source": [
        "len(cities)"
      ],
      "metadata": {
        "colab": {
          "base_uri": "https://localhost:8080/"
        },
        "id": "X1a5c1ino1uY",
        "outputId": "a3927ebc-de64-4b6e-9fe8-3b6ec685b67e"
      },
      "execution_count": 22,
      "outputs": [
        {
          "output_type": "execute_result",
          "data": {
            "text/plain": [
              "49"
            ]
          },
          "metadata": {},
          "execution_count": 22
        }
      ]
    },
    {
      "cell_type": "code",
      "source": [
        "len(cityCoords)"
      ],
      "metadata": {
        "colab": {
          "base_uri": "https://localhost:8080/"
        },
        "id": "z2JbFwFKi6ZD",
        "outputId": "ecb779ff-08f4-4f3b-e08e-20356de1d4bd"
      },
      "execution_count": 28,
      "outputs": [
        {
          "output_type": "execute_result",
          "data": {
            "text/plain": [
              "49"
            ]
          },
          "metadata": {},
          "execution_count": 28
        }
      ]
    },
    {
      "cell_type": "code",
      "source": [
        "cityCoords"
      ],
      "metadata": {
        "id": "1FX4YA36du0H"
      },
      "execution_count": null,
      "outputs": []
    },
    {
      "cell_type": "code",
      "source": [
        "cityPoints = []\n",
        "\n",
        "# convert cityCoords elements (lists) into Points\n",
        "for coord in cityCoords:\n",
        "  cityPoints.append(Point(coord))\n",
        "\n",
        "# convert shapely Points to geoseries\n",
        "geoCityPoints = gpd.GeoSeries(cityPoints)"
      ],
      "metadata": {
        "id": "ZGud2kwcd0bU"
      },
      "execution_count": 30,
      "outputs": []
    },
    {
      "cell_type": "code",
      "source": [
        "len(cityPoints)"
      ],
      "metadata": {
        "colab": {
          "base_uri": "https://localhost:8080/"
        },
        "id": "K3Ok94njgo33",
        "outputId": "0902f525-877e-4dff-a802-d6ec765ef512"
      },
      "execution_count": 31,
      "outputs": [
        {
          "output_type": "execute_result",
          "data": {
            "text/plain": [
              "49"
            ]
          },
          "metadata": {},
          "execution_count": 31
        }
      ]
    },
    {
      "cell_type": "code",
      "source": [
        "len(geoCityPoints)"
      ],
      "metadata": {
        "colab": {
          "base_uri": "https://localhost:8080/"
        },
        "id": "_vW-_Xdfg5-u",
        "outputId": "d35ede64-8ce8-4b57-849c-f6ab4ecf9a28"
      },
      "execution_count": 32,
      "outputs": [
        {
          "output_type": "execute_result",
          "data": {
            "text/plain": [
              "49"
            ]
          },
          "metadata": {},
          "execution_count": 32
        }
      ]
    },
    {
      "cell_type": "markdown",
      "source": [
        "# Calculating Distances between Cities"
      ],
      "metadata": {
        "id": "zRgG9O3ViOvt"
      }
    },
    {
      "cell_type": "code",
      "source": [
        "# list of distances to be dumped into .json\n",
        "cityDistOutputList = []"
      ],
      "metadata": {
        "id": "WoTX8WKstMHH"
      },
      "execution_count": 46,
      "outputs": []
    },
    {
      "cell_type": "code",
      "source": [
        "# Each city gets iterated over\n",
        "for cityPoint in range(len(geoCityPoints)):\n",
        "# for cityPoint in range(2):\n",
        "  distCity2CityList = []\n",
        "\n",
        "  distances = geoCityPoints.distance(geoCityPoints[cityPoint])\n",
        "  for i, dist in enumerate(distances):\n",
        "    # print(distances.values[i])\n",
        "    distCity2CityList.append([cities[i], distances.values[i]])\n",
        "\n",
        "  # store distances to other cities for each city\n",
        "  output = {\n",
        "      'City': cities[cityPoint],\n",
        "      'distance': distCity2CityList,\n",
        "      'coordinates': [geoCityPoints[cityPoint].x, geoCityPoints[cityPoint].y],\n",
        "  }\n",
        "\n",
        "  cityDistOutputList.append(output)"
      ],
      "metadata": {
        "id": "gs7wR8znjcqS"
      },
      "execution_count": 55,
      "outputs": []
    },
    {
      "cell_type": "code",
      "source": [
        "distances"
      ],
      "metadata": {
        "id": "p-LEUKjEqOzN"
      },
      "execution_count": null,
      "outputs": []
    },
    {
      "cell_type": "code",
      "source": [
        "len(distances)"
      ],
      "metadata": {
        "colab": {
          "base_uri": "https://localhost:8080/"
        },
        "id": "vuXZFky1rQ8D",
        "outputId": "8d10ede4-efa8-4e99-d95b-9c9dc66a8ef0"
      },
      "execution_count": 57,
      "outputs": [
        {
          "output_type": "execute_result",
          "data": {
            "text/plain": [
              "49"
            ]
          },
          "metadata": {},
          "execution_count": 57
        }
      ]
    },
    {
      "cell_type": "code",
      "source": [
        "cityDistOutputList"
      ],
      "metadata": {
        "id": "1u2ekF8euN01"
      },
      "execution_count": null,
      "outputs": []
    },
    {
      "cell_type": "markdown",
      "source": [
        "# Write Distances to File"
      ],
      "metadata": {
        "id": "6hPvBXVTuqb0"
      }
    },
    {
      "cell_type": "code",
      "source": [
        "with open('CityDistanceFile.json', 'w') as outFile:\n",
        "  outFile.write(json.dumps(cityDistOutputList))"
      ],
      "metadata": {
        "id": "XAvP-zunuzxs"
      },
      "execution_count": 59,
      "outputs": []
    },
    {
      "cell_type": "markdown",
      "source": [
        "# Average Distance to 100 closest UFO Sightings\n",
        "\n",
        "\n",
        "\n"
      ],
      "metadata": {
        "id": "sKyoMDEvvUVT"
      }
    },
    {
      "cell_type": "code",
      "source": [
        "import statistics # helpful for calculating average\n",
        "\n",
        "averageUFODistList = []"
      ],
      "metadata": {
        "id": "kI5DQYMYzBzs"
      },
      "execution_count": 71,
      "outputs": []
    },
    {
      "cell_type": "code",
      "source": [
        "# Convert UFO sightings to geoseries\n",
        "geoUFO = gpd.GeoSeries(ufoSightingList)\n",
        "\n",
        "for cityPoint in range(len(geoCityPoints)):\n",
        "  distances = geoUFO.distance(geoCityPoints[cityPoint])\n",
        "  distances = distances.values\n",
        "  distances = np.sort(distances)\n",
        "  closeDistances = distances[:100]\n",
        "  avg = round(statistics.mean(closeDistances),2)\n",
        "\n",
        "  output = {\n",
        "      'City': cities[cityPoint],\n",
        "      'average UFO distance': avg,\n",
        "      'coordinates': [geoCityPoints[cityPoint].x, geoCityPoints[cityPoint].y]\n",
        "  }\n",
        "\n",
        "  averageUFODistList.append(output)\n",
        "\n"
      ],
      "metadata": {
        "id": "wBQxoG_mv6KL"
      },
      "execution_count": 72,
      "outputs": []
    },
    {
      "cell_type": "code",
      "source": [
        "len(distances)"
      ],
      "metadata": {
        "colab": {
          "base_uri": "https://localhost:8080/"
        },
        "id": "I8OrUUR9x0m-",
        "outputId": "9b6739bd-f432-4975-b208-8d9accb930cf"
      },
      "execution_count": 68,
      "outputs": [
        {
          "output_type": "execute_result",
          "data": {
            "text/plain": [
              "100925"
            ]
          },
          "metadata": {},
          "execution_count": 68
        }
      ]
    },
    {
      "cell_type": "code",
      "source": [
        "avg"
      ],
      "metadata": {
        "colab": {
          "base_uri": "https://localhost:8080/"
        },
        "id": "OKywLT3XzWzk",
        "outputId": "38b2e694-c3f7-4c24-8e4f-9ae2b1c90586"
      },
      "execution_count": 69,
      "outputs": [
        {
          "output_type": "execute_result",
          "data": {
            "text/plain": [
              "0.09"
            ]
          },
          "metadata": {},
          "execution_count": 69
        }
      ]
    },
    {
      "cell_type": "markdown",
      "source": [
        "# Write Average UFO Distances to File"
      ],
      "metadata": {
        "id": "J94cbKMf04Z8"
      }
    },
    {
      "cell_type": "code",
      "source": [
        "with open('UFOAvgDistanceFile.json', 'w') as outFile:\n",
        "  outFile.write(json.dumps(averageUFODistList))"
      ],
      "metadata": {
        "id": "0A4UOy1H03ra"
      },
      "execution_count": 74,
      "outputs": []
    }
  ]
}